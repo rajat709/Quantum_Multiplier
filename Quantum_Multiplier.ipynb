{
 "cells": [
  {
   "cell_type": "code",
   "execution_count": 1,
   "id": "30d1036c-27d9-46e9-bcf8-280b80a43b6d",
   "metadata": {},
   "outputs": [],
   "source": [
    "def multiplier(a, b):\n",
    "    \"\"\" \n",
    "    Here we perform one digit multiplication using 13 qubits and 6 bits classical register for measurement \n",
    "    for now limitation are, we can only perform multiplication up to number 7('111') so the maximum result we get is 49 however for measurement range is 63('111111').\n",
    "    \"\"\"\n",
    "    # Importing standard Qiskit libraries\n",
    "    import numpy as np\n",
    "    from qiskit import QuantumCircuit, execute, ClassicalRegister, QuantumRegister\n",
    "    from qiskit.quantum_info import Statevector\n",
    "    from qiskit.providers.aer import QasmSimulator, Aer\n",
    "    # Getting provider for experiment here we use noise-less qasm simulator\n",
    "    backend = Aer.get_backend('qasm_simulator')\n",
    "    ####################################################\n",
    "    # Creating Quantum Circuit   \n",
    "    q = QuantumRegister(13)\n",
    "    c = ClassicalRegister(6)\n",
    "    circuit = QuantumCircuit(q,c)\n",
    "    #################################################\n",
    "    # changing integers into binary strings\n",
    "    def decimalToBinary(n):\n",
    "        return bin(n).replace(\"0b\", \"\")\n",
    "    p = decimalToBinary(a)\n",
    "    q = decimalToBinary(b)\n",
    "    #################################################\n",
    "    # preparing initial state\n",
    "    sv = Statevector.from_label(p)\n",
    "    circuit.initialize(sv, [0,1,2])\n",
    "    sq = Statevector.from_label(q)\n",
    "    circuit.initialize(sq, [3,4,5])\n",
    "    #################################################\n",
    "    # importing basis modules for Multiplier\n",
    "    from typing import Optional\n",
    "    from qiskit.circuit import QuantumRegister, AncillaRegister, QuantumCircuit\n",
    "    from qiskit.circuit.library.arithmetic.multipliers.multiplier import Multiplier\n",
    "    class Multiplier(Multiplier):\n",
    "        def __init__(\n",
    "            self,\n",
    "            num_state_qubits: int,\n",
    "            num_result_qubits: Optional[int] = None,\n",
    "            adder: Optional[QuantumCircuit] = None,\n",
    "            name: str = \"Multiplier\",\n",
    "        ) -> None:\n",
    "            super().__init__(num_state_qubits, num_result_qubits, name=name)\n",
    "            # define the registers\n",
    "            qr_a = QuantumRegister(num_state_qubits, name=\"a\")\n",
    "            qr_b = QuantumRegister(num_state_qubits, name=\"b\")\n",
    "            qr_out = QuantumRegister(self.num_result_qubits, name=\"out\")\n",
    "            self.add_register(qr_a, qr_b, qr_out)\n",
    "            # prepare adder as controlled gate\n",
    "            if adder is None:\n",
    "                from qiskit.circuit.library.arithmetic.adders import CDKMRippleCarryAdder\n",
    "                adder = CDKMRippleCarryAdder(num_state_qubits, kind=\"half\") \n",
    "            # get the number of helper qubits needed\n",
    "            num_helper_qubits = adder.num_ancillas\n",
    "            # add helper qubits if required\n",
    "            if num_helper_qubits > 0:\n",
    "                # helper ubits/ ancilla qubits\n",
    "                qr_h = AncillaRegister(num_helper_qubits, name=\"helper\")\n",
    "                self.add_register(qr_h)\n",
    "            # build multiplication circuit\n",
    "            circuit = QuantumCircuit(*self.qregs, name=name)\n",
    "            for i in range(num_state_qubits):\n",
    "                excess_qubits = max(0, num_state_qubits + i + 1 - self.num_result_qubits)\n",
    "                if excess_qubits == 0:\n",
    "                    num_adder_qubits = num_state_qubits\n",
    "                    adder_for_current_step = adder\n",
    "                else:\n",
    "                    num_adder_qubits = num_state_qubits - excess_qubits + 1\n",
    "                    adder_for_current_step = CDKMRippleCarryAdder(num_adder_qubits, kind=\"fixed\")   \n",
    "                controlled_adder = adder_for_current_step.to_gate().control(1)\n",
    "                qr_list = (\n",
    "                    [qr_a[i]]\n",
    "                    + qr_b[:num_adder_qubits]\n",
    "                    + qr_out[i : num_state_qubits + i + 1 - excess_qubits]\n",
    "                )\n",
    "                if num_helper_qubits > 0:\n",
    "                    qr_list.extend(qr_h[:])\n",
    "                circuit.append(controlled_adder, qr_list)\n",
    "            self.append(circuit.to_gate(), self.qubits)\n",
    "    circuit1 = Multiplier(num_state_qubits=3, num_result_qubits=6, name='Multiplier')\n",
    "    circuit = circuit.compose(circuit1)\n",
    "    # Measurment\n",
    "    circuit.measure(6, 0)\n",
    "    circuit.measure(7, 1)\n",
    "    circuit.measure(8, 2)\n",
    "    circuit.measure(9, 3)\n",
    "    circuit.measure(10,4)\n",
    "    circuit.measure(11,5)\n",
    "    # running experiment\n",
    "    job = execute(circuit, backend, shots=2048)\n",
    "    result = job.result()\n",
    "    counts = result.get_counts()\n",
    "    # converting caounts:dict to list[]\n",
    "    dict = counts\n",
    "    list = [(k) for k, v in dict.items()]\n",
    "    # converting list to bit-string\n",
    "    def listToString(s):\n",
    "        # initialize an empty string\n",
    "        str1 = \"\"  \n",
    "        # traverse in the string\n",
    "        for ele in s:\n",
    "            str1 += ele   \n",
    "        # return string\n",
    "        return str1\n",
    "    ###########################################   \n",
    "    s = list\n",
    "    listToString(s)\n",
    "    # get Integer from Binary String\n",
    "    product = int(listToString(s), 2)\n",
    "    # return product of params integers\n",
    "    return product"
   ]
  },
  {
   "cell_type": "code",
   "execution_count": 2,
   "id": "7277c635-e357-4847-8de6-0c2f261a6e01",
   "metadata": {},
   "outputs": [
    {
     "name": "stderr",
     "output_type": "stream",
     "text": [
      "<frozen importlib._bootstrap>:219: RuntimeWarning: scipy._lib.messagestream.MessageStream size changed, may indicate binary incompatibility. Expected 56 from C header, got 64 from PyObject\n"
     ]
    },
    {
     "name": "stdout",
     "output_type": "stream",
     "text": [
      "CPU times: user 26.3 s, sys: 2.37 s, total: 28.7 s\n",
      "Wall time: 6.26 s\n"
     ]
    },
    {
     "data": {
      "text/plain": [
       "30"
      ]
     },
     "execution_count": 2,
     "metadata": {},
     "output_type": "execute_result"
    }
   ],
   "source": [
    "%%time\n",
    "multiplier(5, 6)"
   ]
  },
  {
   "cell_type": "code",
   "execution_count": null,
   "id": "6beb5451-cbda-43ae-9edc-d770050b5a6b",
   "metadata": {},
   "outputs": [],
   "source": []
  }
 ],
 "metadata": {
  "kernelspec": {
   "display_name": "Python 3 (ipykernel)",
   "language": "python",
   "name": "python3"
  },
  "language_info": {
   "codemirror_mode": {
    "name": "ipython",
    "version": 3
   },
   "file_extension": ".py",
   "mimetype": "text/x-python",
   "name": "python",
   "nbconvert_exporter": "python",
   "pygments_lexer": "ipython3",
   "version": "3.8.13"
  },
  "widgets": {
   "application/vnd.jupyter.widget-state+json": {
    "state": {},
    "version_major": 2,
    "version_minor": 0
   }
  }
 },
 "nbformat": 4,
 "nbformat_minor": 5
}
